{
 "cells": [
  {
   "cell_type": "markdown",
   "metadata": {},
   "source": [
    "# Behavioural Cloning Project"
   ]
  },
  {
   "cell_type": "markdown",
   "metadata": {},
   "source": [
    "## 1. Import Data from Folders"
   ]
  },
  {
   "cell_type": "code",
   "execution_count": 118,
   "metadata": {},
   "outputs": [],
   "source": [
    "import csv\n",
    "import os\n",
    "from sklearn.model_selection import train_test_split\n",
    "\n",
    "# Load data from file.\n",
    "samples = os.listdir('data')\n",
    "lines = []\n",
    "\n",
    "# Loop through all directories.\n",
    "for sample in samples:\n",
    "    current_dir = './data/' + sample\n",
    "    with open(current_dir + '/driving_log.csv') as csvfile:\n",
    "        reader = csv.reader(csvfile)\n",
    "        for line in reader:\n",
    "            line[0] = current_dir + '/IMG/' + line[0].split('/')[-1]\n",
    "            line[1] = current_dir + '/IMG/' + line[1].split('/')[-1]\n",
    "            line[2] = current_dir + '/IMG/' + line[2].split('/')[-1]\n",
    "            lines.append(line)\n",
    "\n",
    "# Split data into training and validation set.\n",
    "train_samples, validation_samples = train_test_split(lines, test_size=0.2)"
   ]
  },
  {
   "cell_type": "markdown",
   "metadata": {},
   "source": [
    "## 2. Populate Images and Measurements"
   ]
  },
  {
   "cell_type": "code",
   "execution_count": 124,
   "metadata": {},
   "outputs": [],
   "source": [
    "import cv2\n",
    "import numpy as np\n",
    "import sklearn\n",
    "from matplotlib import pyplot as plt\n",
    "from sklearn.utils import shuffle\n",
    "\n",
    "%matplotlib inline\n",
    "\n",
    "def generator(samples, batch_size=32):\n",
    "    \"\"\"Data Generator to Prevent Overflow\n",
    "    \n",
    "    Returns:\n",
    "      List, images of left/right/center camera.\n",
    "      List, steering angles.\n",
    "    \"\"\"\n",
    "    steering_bias_left = 0.2\n",
    "    steering_bias_right = -0.2\n",
    "    num_samples = len(samples)\n",
    "    while 1: # Loop forever so the generator never terminates\n",
    "        shuffle(samples)\n",
    "        for offset in range(0, num_samples, batch_size):\n",
    "            batch_samples = samples[offset:offset+batch_size]\n",
    "\n",
    "            images = []\n",
    "            measurements = []\n",
    "            for batch_sample in batch_samples:\n",
    "                # Collect Images & Measurements.\n",
    "                image_c = cv2.imread(batch_sample[0])\n",
    "                image_l = cv2.imread(batch_sample[1])\n",
    "                image_r = cv2.imread(batch_sample[2])\n",
    "                measurement_c = float(batch_sample[3])\n",
    "                measurement_l = float(measurement_c + steering_bias_left)\n",
    "                measurement_r = float(measurement_c + steering_bias_right)\n",
    "\n",
    "                # Add Normal & Mirrored Images.\n",
    "                images.append(image_c)\n",
    "                images.append(np.fliplr(image_c))\n",
    "                images.append(image_l)\n",
    "                images.append(np.fliplr(image_l))\n",
    "                images.append(image_r)\n",
    "                images.append(np.fliplr(image_r))\n",
    "\n",
    "                # Add Normal & Mirrored Steering.\n",
    "                measurements.append(measurement_c)\n",
    "                measurements.append(-measurement_c)\n",
    "                measurements.append(measurement_l)\n",
    "                measurements.append(-measurement_l)\n",
    "                measurements.append(measurement_r)\n",
    "                measurements.append(-measurement_r)\n",
    "\n",
    "            # Set data into array.\n",
    "            X_train = np.array(images)\n",
    "            y_train = np.array(measurements)\n",
    "            yield sklearn.utils.shuffle(X_train, y_train)\n",
    "\n",
    "# Compile and train the model using the generator function\n",
    "train_generator = generator(train_samples, batch_size=32)\n",
    "validation_generator = generator(validation_samples, batch_size=32)"
   ]
  },
  {
   "cell_type": "markdown",
   "metadata": {},
   "source": [
    "## 3. Model Architecture."
   ]
  },
  {
   "cell_type": "code",
   "execution_count": 125,
   "metadata": {},
   "outputs": [],
   "source": [
    "from keras.models import Sequential\n",
    "from keras.layers import Activation, Cropping2D, Dense\n",
    "from keras.layers import Dropout, Flatten, Lambda\n",
    "from keras.layers import Convolution2D, MaxPooling2D\n",
    "\n",
    "# NVIDIA Architecture.\n",
    "model = Sequential()\n",
    "\n",
    "model.add(Lambda(lambda x: x / 255.0 - 0.5, input_shape=(160, 320, 3)))\n",
    "model.add(Cropping2D(cropping=((70,25),(0,0))))\n",
    "\n",
    "model.add(Convolution2D(24, 5, 5, subsample=(2,2), activation='relu'))\n",
    "model.add(Convolution2D(36, 5, 5, subsample=(2,2), activation='relu'))\n",
    "model.add(Dropout(0.50))\n",
    "model.add(Convolution2D(48, 5, 5, subsample=(2,2), activation='relu'))\n",
    "model.add(Convolution2D(64, 3, 3, activation='relu'))\n",
    "model.add(Convolution2D(64, 3, 3, activation='relu'))\n",
    "model.add(Dropout(0.50))\n",
    "\n",
    "model.add(Flatten())\n",
    "model.add(Dense(100))\n",
    "model.add(Dropout(0.50))\n",
    "model.add(Dense(50))\n",
    "model.add(Dense(10))\n",
    "model.add(Dense(1))\n",
    "\n",
    "#https://devblogs.nvidia.com/parallelforall/deep-learning-self-driving-cars/"
   ]
  },
  {
   "cell_type": "markdown",
   "metadata": {},
   "source": [
    "## 4. Train the Model."
   ]
  },
  {
   "cell_type": "code",
   "execution_count": 130,
   "metadata": {},
   "outputs": [
    {
     "name": "stdout",
     "output_type": "stream",
     "text": [
      "Epoch 1/10\n",
      "23586/23586 [==============================] - 390s - loss: 0.0267 - val_loss: 0.0244\n",
      "Epoch 2/10\n",
      "23586/23586 [==============================] - 367s - loss: 0.0235 - val_loss: 0.0256\n",
      "Epoch 3/10\n",
      "23586/23586 [==============================] - 401s - loss: 0.0223 - val_loss: 0.0224\n",
      "Epoch 4/10\n",
      "23586/23586 [==============================] - 421s - loss: 0.0213 - val_loss: 0.0229\n",
      "Epoch 5/10\n",
      "23586/23586 [==============================] - 422s - loss: 0.0206 - val_loss: 0.0206\n",
      "Epoch 6/10\n",
      "23586/23586 [==============================] - 436s - loss: 0.0198 - val_loss: 0.0200\n",
      "Epoch 7/10\n",
      "23586/23586 [==============================] - 422s - loss: 0.0193 - val_loss: 0.0197\n",
      "Epoch 8/10\n",
      "23586/23586 [==============================] - 416s - loss: 0.0186 - val_loss: 0.0196\n",
      "Epoch 9/10\n",
      "23586/23586 [==============================] - 417s - loss: 0.0180 - val_loss: 0.0190\n",
      "Epoch 10/10\n",
      "23586/23586 [==============================] - 421s - loss: 0.0178 - val_loss: 0.0181\n"
     ]
    },
    {
     "data": {
      "image/png": "[encoded data removed]",
      "text/plain": [
       "<matplotlib.figure.Figure at 0x7f127972b748>"
      ]
     },
     "metadata": {},
     "output_type": "display_data"
    }
   ],
   "source": [
    "model.compile(loss='mse', optimizer='adam')\n",
    "history_object = model.fit_generator(train_generator, samples_per_epoch=len(train_samples)*6, \n",
    "                    validation_data=validation_generator, nb_val_samples=len(validation_samples)*6,\n",
    "                    nb_epoch=10)\n",
    "\n",
    "# Save Training Model.\n",
    "model.save('model_full_nvidia.h5')\n",
    "\n",
    "# Visualize the Loss.\n",
    "plt.plot(history_object.history['loss'])\n",
    "plt.plot(history_object.history['val_loss'])\n",
    "plt.title('model mean squared error loss')\n",
    "plt.ylabel('mean squared error loss')\n",
    "plt.xlabel('epoch')\n",
    "plt.legend(['training set', 'validation set'], loc='upper right')\n",
    "plt.show()"
   ]
  }
 ],
 "metadata": {
  "kernelspec": {
   "display_name": "Python 3",
   "language": "python",
   "name": "python3"
  },
  "language_info": {
   "codemirror_mode": {
    "name": "ipython",
    "version": 3
   },
   "file_extension": ".py",
   "mimetype": "text/x-python",
   "name": "python",
   "nbconvert_exporter": "python",
   "pygments_lexer": "ipython3",
   "version": "3.5.2"
  },
  "widgets": {
   "state": {},
   "version": "1.1.2"
  }
 },
 "nbformat": 4,
 "nbformat_minor": 2
}
