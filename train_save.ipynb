{
 "cells": [
  {
   "cell_type": "markdown",
   "metadata": {},
   "source": [
    "## Import Data from Folder"
   ]
  },
  {
   "cell_type": "code",
   "execution_count": null,
   "metadata": {},
   "outputs": [],
   "source": [
    "import csv\n",
    "from sklearn.model_selection import train_test_split\n",
    "\n",
    "# Load data from file.\n",
    "lines = []\n",
    "with open('./data/driving_log.csv') as csvfile:\n",
    "    reader = csv.reader(csvfile)\n",
    "    for line in reader:\n",
    "        lines.append(line)\n",
    "header = lines.pop(0)\n",
    "\n",
    "# Split data into training and validation set.\n",
    "train_samples, validation_samples = train_test_split(lines, test_size=0.2)"
   ]
  },
  {
   "cell_type": "markdown",
   "metadata": {},
   "source": [
    "## Generator Code"
   ]
  },
  {
   "cell_type": "code",
   "execution_count": 5,
   "metadata": {},
   "outputs": [],
   "source": [
    "import cv2\n",
    "import numpy as np\n",
    "import sklearn\n",
    "from matplotlib import pyplot as plt\n",
    "from sklearn.utils import shuffle\n",
    "\n",
    "%matplotlib inline\n",
    "\n",
    "def generator(samples, batch_size=32):\n",
    "    \"\"\"Data Generator to Prevent Overflow\n",
    "    \n",
    "    Returns:\n",
    "      List, images of left/right/center camera.\n",
    "      List, steering angles.\n",
    "    \"\"\"\n",
    "    steering_bias_left = 0.2\n",
    "    steering_bias_right = -0.2\n",
    "    num_samples = len(samples)\n",
    "    while 1: # Loop forever so the generator never terminates\n",
    "        shuffle(samples)\n",
    "        for offset in range(0, num_samples, batch_size):\n",
    "            batch_samples = samples[offset:offset+batch_size]\n",
    "\n",
    "            images = []\n",
    "            measurements = []\n",
    "            for batch_sample in batch_samples:\n",
    "                # Collect Images & Measurements.\n",
    "                current_dir = './data/IMG/'\n",
    "                image_c = cv2.imread(current_dir + batch_sample[0].split('/')[-1])\n",
    "                image_l = cv2.imread(current_dir + batch_sample[1].split('/')[-1])\n",
    "                image_r = cv2.imread(current_dir + batch_sample[2].split('/')[-1])\n",
    "                measurement_c = float(batch_sample[3])\n",
    "                measurement_l = float(measurement_c + steering_bias_left)\n",
    "                measurement_r = float(measurement_c + steering_bias_right)\n",
    "\n",
    "                # Add Normal & Mirrored Images.\n",
    "                images.append(image_c)\n",
    "                images.append(np.fliplr(image_c))\n",
    "                images.append(image_l)\n",
    "                images.append(np.fliplr(image_l))\n",
    "                images.append(image_r)\n",
    "                images.append(np.fliplr(image_r))\n",
    "\n",
    "                # Add Normal & Mirrored Steering.\n",
    "                measurements.append(measurement_c)\n",
    "                measurements.append(-measurement_c)\n",
    "                measurements.append(measurement_l)\n",
    "                measurements.append(-measurement_l)\n",
    "                measurements.append(measurement_r)\n",
    "                measurements.append(-measurement_r)\n",
    "\n",
    "            # Set data into array.\n",
    "            X_train = np.array(images)\n",
    "            y_train = np.array(measurements)\n",
    "            yield sklearn.utils.shuffle(X_train, y_train)\n",
    "\n",
    "# Compile and train the model using the generator function\n",
    "train_generator = generator(train_samples, batch_size=32)\n",
    "validation_generator = generator(validation_samples, batch_size=32)"
   ]
  },
  {
   "cell_type": "markdown",
   "metadata": {},
   "source": [
    "## Populate Images and Measurements"
   ]
  },
  {
   "cell_type": "code",
   "execution_count": null,
   "metadata": {},
   "outputs": [],
   "source": [
    "# Populate measurements into array.\n",
    "STEERING_BIAS_L = 0.2\n",
    "STEERING_BIAS_R = -0.2\n",
    "\n",
    "images = []\n",
    "measurements = []\n",
    "for line in lines:\n",
    "    # Collect Images & Measurements.\n",
    "    current_dir = './data/IMG/'\n",
    "    image_c = cv2.imread(current_dir + line[0].split('/')[-1])\n",
    "    image_l = cv2.imread(current_dir + line[1].split('/')[-1])\n",
    "    image_r = cv2.imread(current_dir + line[2].split('/')[-1])\n",
    "    measurement_c = float(line[3])\n",
    "    measurement_l = measurement_c + STEERING_BIAS_L\n",
    "    measurement_r = measurement_c + STEERING_BIAS_R\n",
    "    \n",
    "    # Add Normal & Mirrored Images.\n",
    "    images.append(image_c)\n",
    "    images.append(np.fliplr(image_c))\n",
    "    images.append(image_l)\n",
    "    images.append(np.fliplr(image_l))\n",
    "    images.append(image_r)\n",
    "    images.append(np.fliplr(image_r))\n",
    "    \n",
    "    # Add Normal & Mirrored Steering.\n",
    "    measurements.append(measurement_c)\n",
    "    measurements.append(-measurement_c)\n",
    "    measurements.append(measurement_l)\n",
    "    measurements.append(-measurement_l)\n",
    "    measurements.append(measurement_r)\n",
    "    measurements.append(-measurement_r)\n",
    "    \n",
    "\n",
    "X_train = np.array(images)\n",
    "y_train = np.array(measurements)\n",
    "\n",
    "print('Complete')"
   ]
  },
  {
   "cell_type": "markdown",
   "metadata": {},
   "source": [
    "## Model Architecture."
   ]
  },
  {
   "cell_type": "code",
   "execution_count": 6,
   "metadata": {},
   "outputs": [],
   "source": [
    "from keras.models import Sequential\n",
    "from keras.layers import Activation, Cropping2D, Dense\n",
    "from keras.layers import Dropout, Flatten, Lambda\n",
    "from keras.layers import Convolution2D, MaxPooling2D\n",
    "\n",
    "# Model Architecture.\n",
    "model = Sequential()\n",
    "\n",
    "# Preprocess Images.\n",
    "model.add(Lambda(lambda x: x / 255.0 - 0.5, input_shape=(160, 320, 3)))\n",
    "model.add(Cropping2D(cropping=((70,25),(0,0))))\n",
    "\n",
    "# LeNet Architecture.\n",
    "#model.add(Convolution2D(6,5,5,activation=\"relu\"))\n",
    "#model.add(MaxPooling2D())\n",
    "#model.add(Convolution2D(6,5,5,activation=\"relu\"))\n",
    "#model.add(MaxPooling2D())\n",
    "#model.add(Dropout(0.50))\n",
    "#model.add(Flatten())\n",
    "#model.add(Dense(120))\n",
    "#model.add(Dropout(0.50))\n",
    "#model.add(Dense(84))\n",
    "#model.add(Dense(1))\n",
    "\n",
    "# NVIDIA Architecture.\n",
    "model.add(Convolution2D(24, 5, 5, subsample=(2,2), activation='relu'))\n",
    "model.add(Convolution2D(36, 5, 5, subsample=(2,2), activation='relu'))\n",
    "model.add(Dropout(0.50))\n",
    "model.add(Convolution2D(48, 5, 5, subsample=(2,2), activation='relu'))\n",
    "model.add(Convolution2D(64, 3, 3, activation='relu'))\n",
    "model.add(Convolution2D(64, 3, 3, activation='relu'))\n",
    "model.add(Dropout(0.50))\n",
    "model.add(Flatten())\n",
    "model.add(Dense(100))\n",
    "model.add(Dropout(0.50))\n",
    "model.add(Dense(50))\n",
    "model.add(Dense(10))\n",
    "model.add(Dense(1))\n",
    "\n",
    "#https://devblogs.nvidia.com/parallelforall/deep-learning-self-driving-cars/"
   ]
  },
  {
   "cell_type": "markdown",
   "metadata": {},
   "source": [
    "## Train the Model."
   ]
  },
  {
   "cell_type": "code",
   "execution_count": null,
   "metadata": {},
   "outputs": [],
   "source": [
    "# Compile & Fit Model.\n",
    "model.compile(loss='mse', optimizer='adam')\n",
    "history_object = model.fit(X_train, y_train, validation_split=0.2, shuffle=True, nb_epoch=3)\n",
    "\n",
    "# Save Training Model\n",
    "model.save('model_dropout.h5')\n",
    "print('Model Saved.')"
   ]
  },
  {
   "cell_type": "markdown",
   "metadata": {},
   "source": [
    "## Generator Code"
   ]
  },
  {
   "cell_type": "code",
   "execution_count": 8,
   "metadata": {},
   "outputs": [
    {
     "name": "stdout",
     "output_type": "stream",
     "text": [
      "Epoch 1/3\n",
      "1986/1986 [==============================] - 30s - loss: 0.0341 - val_loss: 0.0275\n",
      "Epoch 2/3\n",
      "1986/1986 [==============================] - 31s - loss: 0.0288 - val_loss: 0.0258\n",
      "Epoch 3/3\n",
      "1986/1986 [==============================] - 32s - loss: 0.0258 - val_loss: 0.0235\n"
     ]
    }
   ],
   "source": [
    "model.compile(loss='mse', optimizer='adam')\n",
    "history_object = model.fit_generator(train_generator, samples_per_epoch=len(train_samples)*6, \n",
    "                    validation_data=validation_generator, nb_val_samples=len(validation_samples)*6,\n",
    "                    nb_epoch=3)"
   ]
  },
  {
   "cell_type": "code",
   "execution_count": 9,
   "metadata": {},
   "outputs": [
    {
     "name": "stdout",
     "output_type": "stream",
     "text": [
      "Model Saved.\n"
     ]
    }
   ],
   "source": [
    "# Save Training Model\n",
    "model.save('model_dropout.h5')\n",
    "print('Model Saved.')"
   ]
  },
  {
   "cell_type": "markdown",
   "metadata": {},
   "source": [
    "## Visualizing Loss"
   ]
  },
  {
   "cell_type": "code",
   "execution_count": 10,
   "metadata": {},
   "outputs": [
    {
     "data": {
      "image/png": "[encoded data removed]",
      "text/plain": [
       "<matplotlib.figure.Figure at 0x7f1290fd7e80>"
      ]
     },
     "metadata": {},
     "output_type": "display_data"
    }
   ],
   "source": [
    "plt.plot(history_object.history['loss'])\n",
    "plt.plot(history_object.history['val_loss'])\n",
    "plt.title('model mean squared error loss')\n",
    "plt.ylabel('mean squared error loss')\n",
    "plt.xlabel('epoch')\n",
    "plt.legend(['training set', 'validation set'], loc='upper right')\n",
    "plt.show()"
   ]
  },
  {
   "cell_type": "code",
   "execution_count": null,
   "metadata": {},
   "outputs": [],
   "source": []
  }
 ],
 "metadata": {
  "kernelspec": {
   "display_name": "Python 3",
   "language": "python",
   "name": "python3"
  },
  "language_info": {
   "codemirror_mode": {
    "name": "ipython",
    "version": 3
   },
   "file_extension": ".py",
   "mimetype": "text/x-python",
   "name": "python",
   "nbconvert_exporter": "python",
   "pygments_lexer": "ipython3",
   "version": "3.5.2"
  },
  "widgets": {
   "state": {},
   "version": "1.1.2"
  }
 },
 "nbformat": 4,
 "nbformat_minor": 2
}
