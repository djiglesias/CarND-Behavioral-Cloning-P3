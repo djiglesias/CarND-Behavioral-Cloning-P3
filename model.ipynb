{
 "cells": [
  {
   "cell_type": "markdown",
   "metadata": {},
   "source": [
    "# Behavioural Cloning Project"
   ]
  },
  {
   "cell_type": "markdown",
   "metadata": {},
   "source": [
    "## 1. Import Data from Folders"
   ]
  },
  {
   "cell_type": "code",
   "execution_count": 1,
   "metadata": {
    "collapsed": true
   },
   "outputs": [],
   "source": [
    "import csv\n",
    "import os\n",
    "from sklearn.model_selection import train_test_split\n",
    "\n",
    "# Load data from file.\n",
    "filename = 'data_new'\n",
    "samples = os.listdir(filename)\n",
    "lines = []\n",
    "zeros = 0\n",
    "\n",
    "# Loop through all directories.\n",
    "for sample in samples:\n",
    "    current_dir = './' + filename + '/' + sample\n",
    "    with open(current_dir + '/driving_log.csv') as csvfile:\n",
    "        reader = csv.reader(csvfile)\n",
    "        for line in reader:\n",
    "            \n",
    "            # Filter sections of zero steering.\n",
    "            if float(line[3]) != 0.0:\n",
    "                zeros = 0\n",
    "            else:\n",
    "                zeros += 1\n",
    "            \n",
    "            # Append images.\n",
    "            if zeros < 5:\n",
    "                line[0] = current_dir + '/IMG/' + line[0].split('/')[-1]\n",
    "                line[1] = current_dir + '/IMG/' + line[1].split('/')[-1]\n",
    "                line[2] = current_dir + '/IMG/' + line[2].split('/')[-1]\n",
    "                lines.append(line)\n",
    "\n",
    "# Split data into training and validation set.\n",
    "train_samples, validation_samples = train_test_split(lines, test_size=0.2)"
   ]
  },
  {
   "cell_type": "markdown",
   "metadata": {},
   "source": [
    "## 2. Image Augmentation Function"
   ]
  },
  {
   "cell_type": "code",
   "execution_count": 2,
   "metadata": {
    "collapsed": true
   },
   "outputs": [],
   "source": [
    "from random import randint as rand\n",
    "\n",
    "def augment(image):\n",
    "    \"\"\"Image Augmentation Function\n",
    "    \n",
    "    Applies a random rotation, translation, and brightness\n",
    "    effect to the input image.\n",
    "    \n",
    "    Returns:\n",
    "      Image, RGB image.\n",
    "    \"\"\"\n",
    "    # Image Parameters.\n",
    "    rows,cols,depth = image.shape\n",
    "\n",
    "    # Apply Random Translation.\n",
    "    x_shift, y_shift = rand(0,5)/100, rand(0,3)/100\n",
    "    M = np.float32([[1,0,cols*x_shift],[0,1,rows*y_shift]])\n",
    "    image = cv2.warpAffine(image,M,(cols,rows))\n",
    "\n",
    "    # Apply Random Rotation.\n",
    "    rotate = rand(-5,5)\n",
    "    M = cv2.getRotationMatrix2D((cols/2,rows/2),rotate,1)\n",
    "    image = cv2.warpAffine(image,M,(cols,rows))\n",
    "\n",
    "    # Apply Random Brightness.\n",
    "    image = cv2.cvtColor(image,cv2.COLOR_RGB2HSV)\n",
    "    random_bright = .25+np.random.uniform()\n",
    "    image[:,:,2] = image[:,:,2]*random_bright\n",
    "    image = cv2.cvtColor(image,cv2.COLOR_HSV2RGB)\n",
    "    \n",
    "    return image"
   ]
  },
  {
   "cell_type": "markdown",
   "metadata": {},
   "source": [
    "## 3. Populate Images and Measurements"
   ]
  },
  {
   "cell_type": "code",
   "execution_count": 3,
   "metadata": {
    "collapsed": true
   },
   "outputs": [],
   "source": [
    "import cv2\n",
    "import numpy as np\n",
    "import sklearn\n",
    "from matplotlib import pyplot as plt\n",
    "from sklearn.utils import shuffle\n",
    "\n",
    "%matplotlib inline\n",
    "\n",
    "def generator(samples, batch_size=32):\n",
    "    \"\"\"Data Generator to Prevent Overflow\n",
    "    \n",
    "    Returns:\n",
    "      List, images of left/right/center camera.\n",
    "      List, steering angles.\n",
    "    \"\"\"\n",
    "    steering_bias_left = 0.25\n",
    "    steering_bias_right = -0.25\n",
    "    num_samples = len(samples)\n",
    "    while 1: # Loop forever so the generator never terminates\n",
    "        shuffle(samples)\n",
    "        for offset in range(0, num_samples, batch_size):\n",
    "            batch_samples = samples[offset:offset+batch_size]\n",
    "\n",
    "            images = []\n",
    "            measurements = []\n",
    "            for batch_sample in batch_samples:\n",
    "                # Collect Images & Measurements.\n",
    "                image_c = cv2.imread(batch_sample[0])\n",
    "                image_l = cv2.imread(batch_sample[1])\n",
    "                image_r = cv2.imread(batch_sample[2])\n",
    "                measurement_c = float(batch_sample[3])\n",
    "                measurement_l = float(measurement_c) + steering_bias_left\n",
    "                measurement_r = float(measurement_c) + steering_bias_right\n",
    "                \n",
    "                # Add Normal & Mirrored Images.\n",
    "                images.append(augment(image_c))\n",
    "                images.append(augment(np.fliplr(image_c)))\n",
    "                images.append(augment(image_l))\n",
    "                images.append(augment(np.fliplr(image_l)))\n",
    "                images.append(augment(image_r))\n",
    "                images.append(augment(np.fliplr(image_r)))\n",
    "\n",
    "                # Add Normal & Mirrored Steering.\n",
    "                measurements.append(measurement_c)\n",
    "                measurements.append(-measurement_c)\n",
    "                measurements.append(measurement_l)\n",
    "                measurements.append(-measurement_l)\n",
    "                measurements.append(measurement_r)\n",
    "                measurements.append(-measurement_r)\n",
    "\n",
    "            # Set data into array.\n",
    "            X_train = np.array(images)\n",
    "            y_train = np.array(measurements)\n",
    "            yield sklearn.utils.shuffle(X_train, y_train)\n",
    "\n",
    "# Compile and train the model using the generator function\n",
    "train_generator = generator(train_samples, batch_size=32)\n",
    "validation_generator = generator(validation_samples, batch_size=32)"
   ]
  },
  {
   "cell_type": "markdown",
   "metadata": {},
   "source": [
    "## 4. Model Architecture."
   ]
  },
  {
   "cell_type": "code",
   "execution_count": null,
   "metadata": {},
   "outputs": [
    {
     "name": "stderr",
     "output_type": "stream",
     "text": [
      "Using TensorFlow backend.\n"
     ]
    }
   ],
   "source": [
    "from keras.models import Sequential\n",
    "from keras.layers import Activation, Cropping2D, Dense\n",
    "from keras.layers import Dropout, Flatten, Lambda\n",
    "from keras.layers import Convolution2D\n",
    "\n",
    "# NVIDIA Architecture.\n",
    "model = Sequential()\n",
    "\n",
    "# Pre-Process Data.\n",
    "model.add(Lambda(lambda x: x / 127.5 -1, input_shape=(160, 320, 3)))\n",
    "model.add(Cropping2D(cropping=((52,20),(15,15))))\n",
    "\n",
    "# Add Three 5x5 Convolution Layers.\n",
    "model.add(Convolution2D(24, 5, 5, subsample=(2,2), border_mode='same', activation='relu'))\n",
    "model.add(Dropout(0.25))\n",
    "model.add(Convolution2D(36, 5, 5, subsample=(2,2), border_mode='same', activation='relu'))\n",
    "model.add(Dropout(0.25))\n",
    "model.add(Convolution2D(48, 5, 5, subsample=(2,2), border_mode='same', activation='relu'))\n",
    "model.add(Dropout(0.25))\n",
    "\n",
    "# Add Two 3x3 Convolution Layers.\n",
    "model.add(Convolution2D(64, 3, 3, border_mode='same', activation='relu'))\n",
    "model.add(Dropout(0.25))\n",
    "model.add(Convolution2D(64, 3, 3, border_mode='same', activation='relu'))\n",
    "model.add(Dropout(0.25))\n",
    "\n",
    "# Flatten Layers.\n",
    "model.add(Flatten())\n",
    "\n",
    "# Connect the layers.\n",
    "model.add(Dense(100, activation='relu'))\n",
    "model.add(Dropout(0.40))\n",
    "model.add(Dense(50, activation='relu'))\n",
    "model.add(Dropout(0.40))\n",
    "model.add(Dense(10, activation='relu'))\n",
    "model.add(Dropout(0.40))\n",
    "model.add(Dense(1))\n",
    "\n",
    "# Compile the Model.\n",
    "model.compile(loss='mse', optimizer='adam')\n",
    "\n",
    "#https://devblogs.nvidia.com/parallelforall/deep-learning-self-driving-cars/"
   ]
  },
  {
   "cell_type": "markdown",
   "metadata": {},
   "source": [
    "## 5. Train the Model."
   ]
  },
  {
   "cell_type": "code",
   "execution_count": null,
   "metadata": {},
   "outputs": [
    {
     "name": "stdout",
     "output_type": "stream",
     "text": [
      "Epoch 1/8\n",
      "12546/12546 [==============================] - 53s - loss: 0.0548 - val_loss: 0.0558\n",
      "Epoch 2/8\n",
      "12546/12546 [==============================] - 48s - loss: 0.0543 - val_loss: 0.0558\n",
      "Epoch 3/8\n",
      "12546/12546 [==============================] - 47s - loss: 0.0531 - val_loss: 0.0486\n",
      "Epoch 4/8\n",
      "12546/12546 [==============================] - 46s - loss: 0.0474 - val_loss: 0.0422\n",
      "Epoch 5/8\n",
      "12546/12546 [==============================] - 46s - loss: 0.0430 - val_loss: 0.0386\n",
      "Epoch 6/8\n",
      "12480/12546 [============================>.] - ETA: 0s - loss: 0.0403"
     ]
    }
   ],
   "source": [
    "history_object = model.fit_generator(\n",
    "    train_generator, \n",
    "    samples_per_epoch=len(train_samples)*6, \n",
    "    validation_data=validation_generator, \n",
    "    nb_val_samples=len(validation_samples)*6,\n",
    "    nb_epoch=8)\n",
    "\n",
    "# Save Training Model.\n",
    "model.save('model_data1.h5')\n",
    "\n",
    "# Visualize the Loss.\n",
    "plt.plot(history_object.history['loss'])\n",
    "plt.plot(history_object.history['val_loss'])\n",
    "plt.title('model mean squared error loss')\n",
    "plt.ylabel('mean squared error loss')\n",
    "plt.xlabel('epoch')\n",
    "plt.legend(['training set', 'validation set'], loc='upper right')\n",
    "plt.show()"
   ]
  },
  {
   "cell_type": "code",
   "execution_count": null,
   "metadata": {
    "collapsed": true
   },
   "outputs": [],
   "source": []
  }
 ],
 "metadata": {
  "kernelspec": {
   "display_name": "Python 3",
   "language": "python",
   "name": "python3"
  },
  "language_info": {
   "codemirror_mode": {
    "name": "ipython",
    "version": 3
   },
   "file_extension": ".py",
   "mimetype": "text/x-python",
   "name": "python",
   "nbconvert_exporter": "python",
   "pygments_lexer": "ipython3",
   "version": "3.5.2"
  },
  "widgets": {
   "state": {},
   "version": "1.1.2"
  }
 },
 "nbformat": 4,
 "nbformat_minor": 2
}
